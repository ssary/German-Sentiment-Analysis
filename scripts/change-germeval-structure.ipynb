{
 "cells": [
  {
   "cell_type": "code",
   "execution_count": 1,
   "id": "3c576a33",
   "metadata": {
    "execution": {
     "iopub.execute_input": "2024-01-20T20:44:19.577172Z",
     "iopub.status.busy": "2024-01-20T20:44:19.576627Z",
     "iopub.status.idle": "2024-01-20T20:44:34.148847Z",
     "shell.execute_reply": "2024-01-20T20:44:34.147341Z"
    },
    "papermill": {
     "duration": 14.58091,
     "end_time": "2024-01-20T20:44:34.151919",
     "exception": false,
     "start_time": "2024-01-20T20:44:19.571009",
     "status": "completed"
    },
    "tags": []
   },
   "outputs": [],
   "source": [
    "'''Change the structure from \"__label__negative\ttext (no header)\" to 2 files\n",
    "    one file contains the labels and one contains the text'''\n",
    "import pandas as pd\n",
    "\n",
    "TRAIN_FILE_NAME = '/kaggle/input/germeval-no-scare/model.train.tsv'\n",
    "VALIDATION_FILE_NAME = '/kaggle/input/germeval-no-scare/model.valid.tsv'\n",
    "TEST_FILE_NAME = '/kaggle/input/germeval-no-scare/model.test.full.tsv'\n",
    "# data sample: __label__negative\ttext (no header)\n",
    "\n",
    "# open files\n",
    "train = pd.read_csv(TRAIN_FILE_NAME, sep='\\t')\n",
    "test = pd.read_csv(TEST_FILE_NAME, sep='\\t')\n",
    "val = pd.read_csv(VALIDATION_FILE_NAME, sep='\\t')"
   ]
  },
  {
   "cell_type": "code",
   "execution_count": 2,
   "id": "1d4881d9",
   "metadata": {
    "execution": {
     "iopub.execute_input": "2024-01-20T20:44:34.160556Z",
     "iopub.status.busy": "2024-01-20T20:44:34.159817Z",
     "iopub.status.idle": "2024-01-20T20:44:34.166218Z",
     "shell.execute_reply": "2024-01-20T20:44:34.164837Z"
    },
    "papermill": {
     "duration": 0.014466,
     "end_time": "2024-01-20T20:44:34.169857",
     "exception": false,
     "start_time": "2024-01-20T20:44:34.155391",
     "status": "completed"
    },
    "tags": []
   },
   "outputs": [],
   "source": [
    "train_labels = []\n",
    "test_labels = []\n",
    "val_labels = []\n",
    "\n",
    "train_text = []\n",
    "test_text = []\n",
    "val_text = []"
   ]
  },
  {
   "cell_type": "code",
   "execution_count": 3,
   "id": "2771cfeb",
   "metadata": {
    "execution": {
     "iopub.execute_input": "2024-01-20T20:44:34.178762Z",
     "iopub.status.busy": "2024-01-20T20:44:34.177657Z",
     "iopub.status.idle": "2024-01-20T20:45:37.650439Z",
     "shell.execute_reply": "2024-01-20T20:45:37.649190Z"
    },
    "papermill": {
     "duration": 63.480342,
     "end_time": "2024-01-20T20:45:37.653534",
     "exception": false,
     "start_time": "2024-01-20T20:44:34.173192",
     "status": "completed"
    },
    "tags": []
   },
   "outputs": [],
   "source": [
    "# Training data\n",
    "for index, row in train.iterrows():\n",
    "    if row[0] == '__label__positive':\n",
    "        train_labels.append(2)\n",
    "    elif row[0] == '__label__negative':\n",
    "        train_labels.append(0)\n",
    "    else:\n",
    "        train_labels.append(1)\n",
    "    train_text.append(row[1])"
   ]
  },
  {
   "cell_type": "code",
   "execution_count": 4,
   "id": "928690d1",
   "metadata": {
    "execution": {
     "iopub.execute_input": "2024-01-20T20:45:37.661921Z",
     "iopub.status.busy": "2024-01-20T20:45:37.661487Z",
     "iopub.status.idle": "2024-01-20T20:45:56.023339Z",
     "shell.execute_reply": "2024-01-20T20:45:56.022071Z"
    },
    "papermill": {
     "duration": 18.369316,
     "end_time": "2024-01-20T20:45:56.026216",
     "exception": false,
     "start_time": "2024-01-20T20:45:37.656900",
     "status": "completed"
    },
    "tags": []
   },
   "outputs": [],
   "source": [
    "# Validation data\n",
    "for index, row in val.iterrows():\n",
    "    if row[0] == '__label__positive':\n",
    "        val_labels.append(2)\n",
    "    elif row[0] == '__label__negative':\n",
    "        val_labels.append(0)\n",
    "    else:\n",
    "        val_labels.append(1)\n",
    "    val_text.append(row[1])"
   ]
  },
  {
   "cell_type": "code",
   "execution_count": 5,
   "id": "a75bc819",
   "metadata": {
    "execution": {
     "iopub.execute_input": "2024-01-20T20:45:56.034108Z",
     "iopub.status.busy": "2024-01-20T20:45:56.033672Z",
     "iopub.status.idle": "2024-01-20T20:46:57.969665Z",
     "shell.execute_reply": "2024-01-20T20:46:57.968207Z"
    },
    "papermill": {
     "duration": 61.943615,
     "end_time": "2024-01-20T20:46:57.972976",
     "exception": false,
     "start_time": "2024-01-20T20:45:56.029361",
     "status": "completed"
    },
    "tags": []
   },
   "outputs": [],
   "source": [
    "# Test data\n",
    "for index, row in test.iterrows():\n",
    "    if row[1] == '__label__positive':\n",
    "        test_labels.append(2)\n",
    "    elif row[1] == '__label__negative':\n",
    "        test_labels.append(0)\n",
    "    else:\n",
    "        test_labels.append(1)\n",
    "    test_text.append(row[2])"
   ]
  },
  {
   "cell_type": "code",
   "execution_count": 6,
   "id": "dfedc133",
   "metadata": {
    "execution": {
     "iopub.execute_input": "2024-01-20T20:46:57.981858Z",
     "iopub.status.busy": "2024-01-20T20:46:57.981434Z",
     "iopub.status.idle": "2024-01-20T20:47:01.433439Z",
     "shell.execute_reply": "2024-01-20T20:47:01.432131Z"
    },
    "papermill": {
     "duration": 3.459752,
     "end_time": "2024-01-20T20:47:01.436472",
     "exception": false,
     "start_time": "2024-01-20T20:46:57.976720",
     "status": "completed"
    },
    "tags": []
   },
   "outputs": [],
   "source": [
    "# save the 6 lists to txt files\n",
    "with open('train_labels.txt', 'w') as f:\n",
    "    for item in train_labels:\n",
    "        f.write(\"%s\\n\" % item)\n",
    "\n",
    "with open('train_text.txt', 'w') as f:\n",
    "    for item in train_text:\n",
    "        f.write(\"%s\\n\" % item)\n",
    "\n",
    "with open('test_labels.txt', 'w') as f:\n",
    "    for item in test_labels:\n",
    "        f.write(\"%s\\n\" % item)\n",
    "\n",
    "with open('test_text.txt', 'w') as f:\n",
    "    for item in test_text:\n",
    "        f.write(\"%s\\n\" % item)\n",
    "\n",
    "with open('val_labels.txt', 'w') as f:\n",
    "    for item in val_labels:\n",
    "        f.write(\"%s\\n\" % item)\n",
    "\n",
    "with open('val_text.txt', 'w') as f:\n",
    "    for item in val_text:\n",
    "        f.write(\"%s\\n\" % item)"
   ]
  }
 ],
 "metadata": {
  "kaggle": {
   "accelerator": "none",
   "dataSources": [
    {
     "datasetId": 4332637,
     "sourceId": 7443599,
     "sourceType": "datasetVersion"
    }
   ],
   "dockerImageVersionId": 30635,
   "isGpuEnabled": false,
   "isInternetEnabled": true,
   "language": "python",
   "sourceType": "notebook"
  },
  "kernelspec": {
   "display_name": "Python 3",
   "language": "python",
   "name": "python3"
  },
  "language_info": {
   "codemirror_mode": {
    "name": "ipython",
    "version": 3
   },
   "file_extension": ".py",
   "mimetype": "text/x-python",
   "name": "python",
   "nbconvert_exporter": "python",
   "pygments_lexer": "ipython3",
   "version": "3.10.12"
  },
  "papermill": {
   "default_parameters": {},
   "duration": 166.242835,
   "end_time": "2024-01-20T20:47:02.262994",
   "environment_variables": {},
   "exception": null,
   "input_path": "__notebook__.ipynb",
   "output_path": "__notebook__.ipynb",
   "parameters": {},
   "start_time": "2024-01-20T20:44:16.020159",
   "version": "2.4.0"
  }
 },
 "nbformat": 4,
 "nbformat_minor": 5
}
